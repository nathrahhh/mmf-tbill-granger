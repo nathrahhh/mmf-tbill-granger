{
 "cells": [
  {
   "cell_type": "code",
   "execution_count": 17,
   "id": "fb214d7a-62b8-48e4-aaff-836df8481b50",
   "metadata": {},
   "outputs": [],
   "source": [
    "import pandas as pd \n",
    "\n",
    "df_fidelity = pd.read_csv(\"n_mfp_fidelity.csv\")\n",
    "df_goldman = pd.read_csv(\"n_mfp_goldman.csv\")\n",
    "df_jpmorgan = pd.read_csv(\"n_mfp_jpmorgan.csv\")\n",
    "\n",
    "df_fidelity['Source'] = 'Fidelity'\n",
    "df_jpmorgan['Source'] = 'JPMorgan'\n",
    "df_goldman['Source'] = 'Goldman Sachs'\n"
   ]
  },
  {
   "cell_type": "code",
   "execution_count": 18,
   "id": "fd1144ac-7733-42e7-bf3d-0cceb4355cf6",
   "metadata": {},
   "outputs": [
    {
     "data": {
      "text/plain": [
       "108"
      ]
     },
     "execution_count": 18,
     "metadata": {},
     "output_type": "execute_result"
    }
   ],
   "source": [
    "len(df_fidelity)"
   ]
  },
  {
   "cell_type": "code",
   "execution_count": 19,
   "id": "4dc7f60f-d5f5-41ee-9f45-ae236a0a1d0b",
   "metadata": {},
   "outputs": [],
   "source": [
    "cols_to_keep = ['Filing Date', 'WAM (days)', 'Net Assets', 'Source']\n",
    "\n",
    "df_fidelity = df_fidelity[cols_to_keep]\n",
    "df_jpmorgan = df_jpmorgan[cols_to_keep]\n",
    "df_goldman = df_goldman[cols_to_keep]\n",
    "\n",
    "\n",
    "df_all = pd.concat([df_fidelity, df_jpmorgan, df_goldman], ignore_index=True)\n"
   ]
  },
  {
   "cell_type": "code",
   "execution_count": 20,
   "id": "746a6bae-f307-45d1-a3d0-6ac7dc3b71eb",
   "metadata": {},
   "outputs": [
    {
     "data": {
      "text/html": [
       "<div>\n",
       "<style scoped>\n",
       "    .dataframe tbody tr th:only-of-type {\n",
       "        vertical-align: middle;\n",
       "    }\n",
       "\n",
       "    .dataframe tbody tr th {\n",
       "        vertical-align: top;\n",
       "    }\n",
       "\n",
       "    .dataframe thead th {\n",
       "        text-align: right;\n",
       "    }\n",
       "</style>\n",
       "<table border=\"1\" class=\"dataframe\">\n",
       "  <thead>\n",
       "    <tr style=\"text-align: right;\">\n",
       "      <th></th>\n",
       "      <th>Filing Date</th>\n",
       "      <th>WAM (days)</th>\n",
       "      <th>Net Assets</th>\n",
       "      <th>Source</th>\n",
       "    </tr>\n",
       "  </thead>\n",
       "  <tbody>\n",
       "    <tr>\n",
       "      <th>0</th>\n",
       "      <td>2016-07-08</td>\n",
       "      <td>37.0</td>\n",
       "      <td>5.543205e+09</td>\n",
       "      <td>Fidelity</td>\n",
       "    </tr>\n",
       "    <tr>\n",
       "      <th>1</th>\n",
       "      <td>2016-08-04</td>\n",
       "      <td>29.0</td>\n",
       "      <td>5.726993e+09</td>\n",
       "      <td>Fidelity</td>\n",
       "    </tr>\n",
       "    <tr>\n",
       "      <th>2</th>\n",
       "      <td>2016-09-08</td>\n",
       "      <td>43.0</td>\n",
       "      <td>6.602602e+10</td>\n",
       "      <td>Fidelity</td>\n",
       "    </tr>\n",
       "    <tr>\n",
       "      <th>3</th>\n",
       "      <td>2016-10-07</td>\n",
       "      <td>49.0</td>\n",
       "      <td>7.093520e+10</td>\n",
       "      <td>Fidelity</td>\n",
       "    </tr>\n",
       "    <tr>\n",
       "      <th>4</th>\n",
       "      <td>2016-11-07</td>\n",
       "      <td>48.0</td>\n",
       "      <td>7.363233e+10</td>\n",
       "      <td>Fidelity</td>\n",
       "    </tr>\n",
       "  </tbody>\n",
       "</table>\n",
       "</div>"
      ],
      "text/plain": [
       "  Filing Date  WAM (days)    Net Assets    Source\n",
       "0  2016-07-08        37.0  5.543205e+09  Fidelity\n",
       "1  2016-08-04        29.0  5.726993e+09  Fidelity\n",
       "2  2016-09-08        43.0  6.602602e+10  Fidelity\n",
       "3  2016-10-07        49.0  7.093520e+10  Fidelity\n",
       "4  2016-11-07        48.0  7.363233e+10  Fidelity"
      ]
     },
     "execution_count": 20,
     "metadata": {},
     "output_type": "execute_result"
    }
   ],
   "source": [
    "df_all.head()"
   ]
  },
  {
   "cell_type": "code",
   "execution_count": 21,
   "id": "6bfe721e-77ca-47c6-8f38-ab0e6370de71",
   "metadata": {},
   "outputs": [],
   "source": [
    "df_all['Filing Date'] = pd.to_datetime(df_all['Filing Date'], errors='coerce')\n"
   ]
  },
  {
   "cell_type": "code",
   "execution_count": 22,
   "id": "82a0ea73-7ce6-4f6a-82c9-87087a256fee",
   "metadata": {},
   "outputs": [],
   "source": [
    "# Create a Month column\n",
    "df_all['Month'] = df_all['Filing Date'].dt.to_period('M')\n",
    "\n",
    "# Group by Month and calculate weighted average\n",
    "wam_index = df_all.groupby('Month').apply(\n",
    "    lambda x: (x['WAM (days)'] * x['Net Assets']).sum() / x['Net Assets'].sum()\n",
    ").reset_index(name='Weighted Avg Maturity')\n",
    "\n",
    "# Optional: convert Period to Timestamp (e.g. '2023-05' to datetime)\n",
    "wam_index['Month'] = wam_index['Month'].dt.to_timestamp()\n"
   ]
  },
  {
   "cell_type": "code",
   "execution_count": 23,
   "id": "866685ad-3d29-4c62-abfb-16e0485e245e",
   "metadata": {},
   "outputs": [
    {
     "name": "stdout",
     "output_type": "stream",
     "text": [
      "         Month  Weighted Avg Maturity\n",
      "0   2016-07-01              39.927583\n",
      "1   2016-08-01              34.917873\n",
      "2   2016-09-01              41.687256\n",
      "3   2016-10-01              41.190374\n",
      "4   2016-11-01              47.418204\n",
      "..         ...                    ...\n",
      "104 2025-03-01              33.568145\n",
      "105 2025-04-01              27.175088\n",
      "106 2025-05-01              33.131922\n",
      "107 2025-06-01              33.032234\n",
      "108 2025-07-01              12.000000\n",
      "\n",
      "[109 rows x 2 columns]\n"
     ]
    }
   ],
   "source": [
    "print(wam_index)\n"
   ]
  },
  {
   "cell_type": "code",
   "execution_count": 24,
   "id": "09d2b15e-4b23-481f-ba99-0c39a0a93523",
   "metadata": {},
   "outputs": [
    {
     "name": "stdout",
     "output_type": "stream",
     "text": [
      "2016-07-01 00:00:00 → 2025-07-01 00:00:00\n",
      "Total rows: 109\n"
     ]
    }
   ],
   "source": [
    "print(wam_index['Month'].min(), \"→\", wam_index['Month'].max())\n",
    "print(\"Total rows:\", len(wam_index))\n"
   ]
  },
  {
   "cell_type": "code",
   "execution_count": 25,
   "id": "15636696-d472-46f0-9f20-a7ea40492afb",
   "metadata": {},
   "outputs": [
    {
     "data": {
      "text/html": [
       "<div>\n",
       "<style scoped>\n",
       "    .dataframe tbody tr th:only-of-type {\n",
       "        vertical-align: middle;\n",
       "    }\n",
       "\n",
       "    .dataframe tbody tr th {\n",
       "        vertical-align: top;\n",
       "    }\n",
       "\n",
       "    .dataframe thead th {\n",
       "        text-align: right;\n",
       "    }\n",
       "</style>\n",
       "<table border=\"1\" class=\"dataframe\">\n",
       "  <thead>\n",
       "    <tr style=\"text-align: right;\">\n",
       "      <th></th>\n",
       "      <th>Month</th>\n",
       "      <th>Weighted Avg Maturity</th>\n",
       "    </tr>\n",
       "  </thead>\n",
       "  <tbody>\n",
       "    <tr>\n",
       "      <th>104</th>\n",
       "      <td>2025-03-01</td>\n",
       "      <td>33.568145</td>\n",
       "    </tr>\n",
       "    <tr>\n",
       "      <th>105</th>\n",
       "      <td>2025-04-01</td>\n",
       "      <td>27.175088</td>\n",
       "    </tr>\n",
       "    <tr>\n",
       "      <th>106</th>\n",
       "      <td>2025-05-01</td>\n",
       "      <td>33.131922</td>\n",
       "    </tr>\n",
       "    <tr>\n",
       "      <th>107</th>\n",
       "      <td>2025-06-01</td>\n",
       "      <td>33.032234</td>\n",
       "    </tr>\n",
       "    <tr>\n",
       "      <th>108</th>\n",
       "      <td>2025-07-01</td>\n",
       "      <td>12.000000</td>\n",
       "    </tr>\n",
       "  </tbody>\n",
       "</table>\n",
       "</div>"
      ],
      "text/plain": [
       "         Month  Weighted Avg Maturity\n",
       "104 2025-03-01              33.568145\n",
       "105 2025-04-01              27.175088\n",
       "106 2025-05-01              33.131922\n",
       "107 2025-06-01              33.032234\n",
       "108 2025-07-01              12.000000"
      ]
     },
     "execution_count": 25,
     "metadata": {},
     "output_type": "execute_result"
    }
   ],
   "source": [
    "wam_index.tail()"
   ]
  },
  {
   "cell_type": "code",
   "execution_count": 26,
   "id": "23c14596-4c83-4dc7-bfe6-49a9aee3399f",
   "metadata": {},
   "outputs": [],
   "source": [
    "# Keep only the expected date range\n",
    "mask = (wam_index['Month'] >= '2016-06-01') & (wam_index['Month'] <= '2025-06-01')\n",
    "wam_index = wam_index.loc[mask].reset_index(drop=True)\n"
   ]
  },
  {
   "cell_type": "code",
   "execution_count": 27,
   "id": "ec13db53-f0e0-4eb6-8923-f71f2e271aef",
   "metadata": {},
   "outputs": [
    {
     "data": {
      "text/plain": [
       "108"
      ]
     },
     "execution_count": 27,
     "metadata": {},
     "output_type": "execute_result"
    }
   ],
   "source": [
    "len(wam_index)"
   ]
  },
  {
   "cell_type": "code",
   "execution_count": 28,
   "id": "ffdc896e-ca61-4c5f-b7f8-2cd0f187002f",
   "metadata": {},
   "outputs": [
    {
     "data": {
      "text/html": [
       "<div>\n",
       "<style scoped>\n",
       "    .dataframe tbody tr th:only-of-type {\n",
       "        vertical-align: middle;\n",
       "    }\n",
       "\n",
       "    .dataframe tbody tr th {\n",
       "        vertical-align: top;\n",
       "    }\n",
       "\n",
       "    .dataframe thead th {\n",
       "        text-align: right;\n",
       "    }\n",
       "</style>\n",
       "<table border=\"1\" class=\"dataframe\">\n",
       "  <thead>\n",
       "    <tr style=\"text-align: right;\">\n",
       "      <th></th>\n",
       "      <th>Month</th>\n",
       "      <th>Weighted Avg Maturity</th>\n",
       "    </tr>\n",
       "  </thead>\n",
       "  <tbody>\n",
       "    <tr>\n",
       "      <th>103</th>\n",
       "      <td>2025-02-01</td>\n",
       "      <td>37.900955</td>\n",
       "    </tr>\n",
       "    <tr>\n",
       "      <th>104</th>\n",
       "      <td>2025-03-01</td>\n",
       "      <td>33.568145</td>\n",
       "    </tr>\n",
       "    <tr>\n",
       "      <th>105</th>\n",
       "      <td>2025-04-01</td>\n",
       "      <td>27.175088</td>\n",
       "    </tr>\n",
       "    <tr>\n",
       "      <th>106</th>\n",
       "      <td>2025-05-01</td>\n",
       "      <td>33.131922</td>\n",
       "    </tr>\n",
       "    <tr>\n",
       "      <th>107</th>\n",
       "      <td>2025-06-01</td>\n",
       "      <td>33.032234</td>\n",
       "    </tr>\n",
       "  </tbody>\n",
       "</table>\n",
       "</div>"
      ],
      "text/plain": [
       "         Month  Weighted Avg Maturity\n",
       "103 2025-02-01              37.900955\n",
       "104 2025-03-01              33.568145\n",
       "105 2025-04-01              27.175088\n",
       "106 2025-05-01              33.131922\n",
       "107 2025-06-01              33.032234"
      ]
     },
     "execution_count": 28,
     "metadata": {},
     "output_type": "execute_result"
    }
   ],
   "source": [
    "wam_index.tail()"
   ]
  },
  {
   "cell_type": "code",
   "execution_count": 29,
   "id": "45e2f035-f18c-43ba-b8a1-631dd725ba21",
   "metadata": {},
   "outputs": [],
   "source": [
    "wam_index.to_csv('wam_index.csv', index=False)\n"
   ]
  },
  {
   "cell_type": "code",
   "execution_count": null,
   "id": "172c4a5c-7aaa-43b3-8469-65c866088702",
   "metadata": {},
   "outputs": [],
   "source": []
  }
 ],
 "metadata": {
  "kernelspec": {
   "display_name": "anaconda-2024.02-py310",
   "language": "python",
   "name": "conda-env-anaconda-2024.02-py310-py"
  },
  "language_info": {
   "codemirror_mode": {
    "name": "ipython",
    "version": 3
   },
   "file_extension": ".py",
   "mimetype": "text/x-python",
   "name": "python",
   "nbconvert_exporter": "python",
   "pygments_lexer": "ipython3",
   "version": "3.10.14"
  }
 },
 "nbformat": 4,
 "nbformat_minor": 5
}
